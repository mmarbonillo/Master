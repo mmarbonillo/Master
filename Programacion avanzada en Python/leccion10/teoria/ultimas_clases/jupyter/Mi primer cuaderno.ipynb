{
 "cells": [
  {
   "cell_type": "markdown",
   "metadata": {},
   "source": [
    "# Mi primer cuaderno\n",
    "## Este va ser mi primer cuaderno de Jupyter\n",
    "### Aqui vamos a hacer cosas muy interesantes\n",
    "\n",
    "Estre lo que haremos se encuentra:\n",
    "- Vamos a hacer analisis de sentimientos\n",
    "- Vamos a imprimir *mensajes*\n",
    "- Y muchas cosas **mas**\n",
    "\n",
    "![Imagen](https://i0.wp.com/www.theanalysisfactor.com/wp-content/uploads/2019/06/linear-regression-gpa.png?fit=470%2C376&ssl=1)"
   ]
  },
  {
   "cell_type": "code",
   "execution_count": 1,
   "metadata": {},
   "outputs": [
    {
     "name": "stdout",
     "output_type": "stream",
     "text": [
      "Este es el bloque 1\n",
      "Este es el bloque 2\n",
      "Variable X: 10\n"
     ]
    }
   ],
   "source": [
    "# Hola Mundo\n",
    "print(\"Este es el bloque 1\")\n",
    "x = 10\n",
    "\n",
    "print (\"Este es el bloque 2\")\n",
    "print (\"Variable X:\", x)"
   ]
  },
  {
   "cell_type": "code",
   "execution_count": null,
   "metadata": {},
   "outputs": [],
   "source": []
  },
  {
   "cell_type": "code",
   "execution_count": 1,
   "metadata": {},
   "outputs": [
    {
     "name": "stdout",
     "output_type": "stream",
     "text": [
      "Este es el bloque 1\n",
      "Este es el bloque 2\n",
      "Variable X: 10\n"
     ]
    }
   ],
   "source": [
    "# Hola Mundo\n",
    "print(\"Este es el bloque 1\")\n",
    "x = 10\n",
    "\n",
    "print (\"Este es el bloque 2\")\n",
    "print (\"Variable X:\", x)"
   ]
  }
 ],
 "metadata": {
  "kernelspec": {
   "display_name": "Python 3 (ipykernel)",
   "language": "python",
   "name": "python3"
  },
  "language_info": {
   "codemirror_mode": {
    "name": "ipython",
    "version": 3
   },
   "file_extension": ".py",
   "mimetype": "text/x-python",
   "name": "python",
   "nbconvert_exporter": "python",
   "pygments_lexer": "ipython3",
   "version": "3.9.5"
  }
 },
 "nbformat": 4,
 "nbformat_minor": 4
}
