{
 "cells": [
  {
   "cell_type": "markdown",
   "id": "f31231fa",
   "metadata": {},
   "source": [
    "# Mi primer cuaderno\n",
    "## Este va ser mi primer cuaderno de Jupyter\n",
    "### Aqui vamos a hacer cosas muy interesantes\n",
    "\n",
    "Estre lo que haremos se encuentra:\n",
    "- Vamos a hacer analisis de sentimientos\n",
    "- Vamos a imprimir *mensajes*\n",
    "- Y muchas cosas **mas**\n",
    "\n",
    "![Imagen](https://i0.wp.com/www.theanalysisfactor.com/wp-content/uploads/2019/06/linear-regression-gpa.png?fit=470%2C376&ssl=1)"
   ]
  },
  {
   "cell_type": "code",
   "execution_count": null,
   "id": "a2e5be97",
   "metadata": {},
   "outputs": [],
   "source": [
    "print(\"Hola\")"
   ]
  },
  {
   "cell_type": "code",
   "execution_count": null,
   "id": "2c78539c",
   "metadata": {},
   "outputs": [],
   "source": [
    "x=10"
   ]
  },
  {
   "cell_type": "code",
   "execution_count": 1,
   "id": "641cb35c",
   "metadata": {},
   "outputs": [
    {
     "ename": "NameError",
     "evalue": "name 'x' is not defined",
     "output_type": "error",
     "traceback": [
      "\u001b[0;31m---------------------------------------------------------------------------\u001b[0m",
      "\u001b[0;31mNameError\u001b[0m                                 Traceback (most recent call last)",
      "Input \u001b[0;32mIn [1]\u001b[0m, in \u001b[0;36m<cell line: 1>\u001b[0;34m()\u001b[0m\n\u001b[0;32m----> 1\u001b[0m \u001b[43mx\u001b[49m\n",
      "\u001b[0;31mNameError\u001b[0m: name 'x' is not defined"
     ]
    }
   ],
   "source": [
    "x"
   ]
  }
 ],
 "metadata": {
  "kernelspec": {
   "display_name": "Python 3 (ipykernel)",
   "language": "python",
   "name": "python3"
  },
  "language_info": {
   "codemirror_mode": {
    "name": "ipython",
    "version": 3
   },
   "file_extension": ".py",
   "mimetype": "text/x-python",
   "name": "python",
   "nbconvert_exporter": "python",
   "pygments_lexer": "ipython3",
   "version": "3.9.5"
  }
 },
 "nbformat": 4,
 "nbformat_minor": 5
}
